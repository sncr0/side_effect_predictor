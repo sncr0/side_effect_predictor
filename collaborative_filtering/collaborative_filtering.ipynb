{
 "cells": [
  {
   "cell_type": "code",
   "execution_count": 154,
   "metadata": {},
   "outputs": [],
   "source": [
    "import csv\n",
    "import pandas as pd\n",
    "import numpy as np\n",
    "import re\n",
    "from sklearn.metrics.pairwise import cosine_similarity\n",
    "from sklearn.preprocessing import LabelEncoder\n",
    "\n",
    "pd.options.mode.chained_assignment = None  # default='warn'"
   ]
  },
  {
   "cell_type": "code",
   "execution_count": 5,
   "metadata": {},
   "outputs": [],
   "source": [
    "dataset_path = \"/home/samuel/NYU/BDS/project/meddra/\"\n",
    "\n",
    "def read_tsv_file(file_path, headers = True):\n",
    "    try:\n",
    "        data = []\n",
    "        with open(file_path, 'r', newline='', encoding='utf-8') as file:\n",
    "            # Using the CSV reader with the tab delimiter\n",
    "            reader = csv.reader(file, delimiter='\\t')\n",
    "\n",
    "            if headers == True:\n",
    "                # Reading headers\n",
    "                headers = next(reader)\n",
    "                print(\"Headers:\", headers)\n",
    "\n",
    "            # Reading data rows\n",
    "            for row in reader:\n",
    "                data.append(row)\n",
    "\n",
    "        # Create a Pandas DataFrame using the headers and data\n",
    "        if headers == True:\n",
    "            df = pd.DataFrame(data, columns=headers)\n",
    "        else:\n",
    "            df = pd.DataFrame(data)\n",
    "        return df\n",
    "\n",
    "    except FileNotFoundError:\n",
    "        print(f\"Error: File not found at '{file_path}'\")\n",
    "    except Exception as e:\n",
    "        print(f\"An error occurred: {e}\")"
   ]
  },
  {
   "cell_type": "code",
   "execution_count": 46,
   "metadata": {},
   "outputs": [],
   "source": [
    "CID_df = pd.read_csv(\"../sider_extract/drug_names_with_CID.csv\")\n",
    "dataset_path = \"/home/samuel/NYU/BDS/project/meddra/\"\n",
    "meddra_file_path = dataset_path + 'meddra_all_se.tsv'\n",
    "meddra_df = read_tsv_file(meddra_file_path, headers = False)\n",
    "review_df = pd.read_csv(\"../review_dataset/drugsComTrain_processed.csv\")\n"
   ]
  },
  {
   "cell_type": "code",
   "execution_count": 67,
   "metadata": {},
   "outputs": [],
   "source": [
    "side_effects_df = pd.read_csv(\"../sider_extract/side_effects.csv\").drop(columns=\"Unnamed: 0\").drop_duplicates()"
   ]
  },
  {
   "cell_type": "code",
   "execution_count": 68,
   "metadata": {},
   "outputs": [
    {
     "data": {
      "text/html": [
       "<div>\n",
       "<style scoped>\n",
       "    .dataframe tbody tr th:only-of-type {\n",
       "        vertical-align: middle;\n",
       "    }\n",
       "\n",
       "    .dataframe tbody tr th {\n",
       "        vertical-align: top;\n",
       "    }\n",
       "\n",
       "    .dataframe thead th {\n",
       "        text-align: right;\n",
       "    }\n",
       "</style>\n",
       "<table border=\"1\" class=\"dataframe\">\n",
       "  <thead>\n",
       "    <tr style=\"text-align: right;\">\n",
       "      <th></th>\n",
       "      <th>drug_name</th>\n",
       "      <th>side_effect</th>\n",
       "    </tr>\n",
       "  </thead>\n",
       "  <tbody>\n",
       "    <tr>\n",
       "      <th>0</th>\n",
       "      <td>Levonorgestrel</td>\n",
       "      <td>Abdominal distension</td>\n",
       "    </tr>\n",
       "    <tr>\n",
       "      <th>2</th>\n",
       "      <td>Levonorgestrel</td>\n",
       "      <td>Abdominal pain</td>\n",
       "    </tr>\n",
       "    <tr>\n",
       "      <th>3</th>\n",
       "      <td>Levonorgestrel</td>\n",
       "      <td>Gastrointestinal pain</td>\n",
       "    </tr>\n",
       "    <tr>\n",
       "      <th>5</th>\n",
       "      <td>Levonorgestrel</td>\n",
       "      <td>Acute tonsillitis</td>\n",
       "    </tr>\n",
       "    <tr>\n",
       "      <th>7</th>\n",
       "      <td>Levonorgestrel</td>\n",
       "      <td>Alopecia</td>\n",
       "    </tr>\n",
       "    <tr>\n",
       "      <th>...</th>\n",
       "      <td>...</td>\n",
       "      <td>...</td>\n",
       "    </tr>\n",
       "    <tr>\n",
       "      <th>395</th>\n",
       "      <td>Levonorgestrel</td>\n",
       "      <td>Breast neoplasm</td>\n",
       "    </tr>\n",
       "    <tr>\n",
       "      <th>397</th>\n",
       "      <td>Levonorgestrel</td>\n",
       "      <td>Somnolence</td>\n",
       "    </tr>\n",
       "    <tr>\n",
       "      <th>399</th>\n",
       "      <td>Levonorgestrel</td>\n",
       "      <td>Vaginal haemorrhage</td>\n",
       "    </tr>\n",
       "    <tr>\n",
       "      <th>401</th>\n",
       "      <td>Levonorgestrel</td>\n",
       "      <td>Abnormal vision</td>\n",
       "    </tr>\n",
       "    <tr>\n",
       "      <th>402</th>\n",
       "      <td>Levonorgestrel</td>\n",
       "      <td>Visual impairment</td>\n",
       "    </tr>\n",
       "  </tbody>\n",
       "</table>\n",
       "<p>220 rows × 2 columns</p>\n",
       "</div>"
      ],
      "text/plain": [
       "          drug_name            side_effect\n",
       "0    Levonorgestrel   Abdominal distension\n",
       "2    Levonorgestrel         Abdominal pain\n",
       "3    Levonorgestrel  Gastrointestinal pain\n",
       "5    Levonorgestrel      Acute tonsillitis\n",
       "7    Levonorgestrel               Alopecia\n",
       "..              ...                    ...\n",
       "395  Levonorgestrel        Breast neoplasm\n",
       "397  Levonorgestrel             Somnolence\n",
       "399  Levonorgestrel    Vaginal haemorrhage\n",
       "401  Levonorgestrel        Abnormal vision\n",
       "402  Levonorgestrel      Visual impairment\n",
       "\n",
       "[220 rows x 2 columns]"
      ]
     },
     "execution_count": 68,
     "metadata": {},
     "output_type": "execute_result"
    }
   ],
   "source": [
    "side_effects_df[side_effects_df[\"drug_name\"] == \"Levonorgestrel\"]"
   ]
  },
  {
   "cell_type": "code",
   "execution_count": 69,
   "metadata": {},
   "outputs": [
    {
     "data": {
      "text/plain": [
       "161297"
      ]
     },
     "execution_count": 69,
     "metadata": {},
     "output_type": "execute_result"
    }
   ],
   "source": [
    "len(review_df)"
   ]
  },
  {
   "cell_type": "code",
   "execution_count": 240,
   "metadata": {},
   "outputs": [],
   "source": [
    "def extract_age(review):\n",
    "    review = review.lower()\n",
    "    if \"years old\" in review:\n",
    "        age_index = review.find(\"years old\")\n",
    "        match = re.search(r\"\\b\\d+\\b\", review[age_index-3:age_index+10])\n",
    "        if match:\n",
    "            return match.group()\n",
    "            \n",
    "    if \"year-old\" in review:\n",
    "        age_index = review.find(\"year-old\")\n",
    "        match = re.search(r\"\\b\\d+\\b\", review[age_index-3:age_index+10])\n",
    "        if match:\n",
    "            return match.group()\n",
    "\n",
    "    if \"years-old\" in review:\n",
    "        age_index = review.find(\"years-old\")\n",
    "        match = re.search(r\"\\b\\d+\\b\", review[age_index-3:age_index+10])\n",
    "        if match:\n",
    "            return match.group()\n",
    "    \n",
    "    if \"year old\" in review:\n",
    "        age_index = review.find(\"year old\")\n",
    "        match = re.search(r\"\\b\\d+\\b\", review[age_index-3:age_index+10])\n",
    "        if match:\n",
    "            return match.group()\n",
    "    \n",
    "    if \"y/o\" in review:\n",
    "        age_index = review.find(\"y/o\")\n",
    "        match = re.search(r\"\\b\\d+\\b\", review[age_index-3:age_index+10])\n",
    "        if match:\n",
    "            return match.group()\n",
    "            \n",
    "    if \"years of age\" in review:\n",
    "        age_index = review.find(\"years of age\")\n",
    "        match = re.search(r\"\\b\\d+\\b\", review[age_index-3:age_index+10])\n",
    "        if match:\n",
    "            return match.group()\n",
    "    \n",
    "    return -1\n",
    "\n",
    "def extract_married(review):\n",
    "    if \"husband\" in review:\n",
    "        return True\n",
    "    \n",
    "    if \"wife\" in review:\n",
    "        return True\n",
    "    \n",
    "    if \"married\" in review:\n",
    "        return True\n",
    "    \n",
    "    if \"marriage\" in review:\n",
    "        return True\n",
    "    \n",
    "    if \"spouse\" in review:\n",
    "        return True\n",
    "    return False\n",
    "\n",
    "def extract_children(review):\n",
    "    if \"child\" in review:\n",
    "        return True\n",
    "    \n",
    "    if \"children\" in review:\n",
    "        return True\n",
    "    \n",
    "    if \"kid\" in review:\n",
    "        return True\n",
    "    \n",
    "    if \"kids\" in review:\n",
    "        return True\n",
    "    return False\n",
    "\n",
    "def extract_male(review):\n",
    "    if \" male\" in review:\n",
    "        # parts = review.split(\" male\", 1)  # Split the string into two parts at the first occurrence of \" male\"\n",
    "        # print(\"First Part:\", parts[0])\n",
    "        # print(\"Male\")\n",
    "        # print(\"Second Part:\", parts[1])\n",
    "        # print(\"\\n\\n\\n\")\n",
    "        return True\n",
    "    return False\n",
    "\n",
    "def extract_female(review):\n",
    "    if \"female\" in review:\n",
    "        return True\n",
    "    return False\n",
    "    \n"
   ]
  },
  {
   "cell_type": "code",
   "execution_count": 248,
   "metadata": {},
   "outputs": [
    {
     "name": "stdout",
     "output_type": "stream",
     "text": [
      "Size of review dataset: 3657\n",
      "Number of side effects: 220\n",
      "male\n",
      "male\n"
     ]
    }
   ],
   "source": [
    "def create_patient_matrix(drug_name, review_df, side_effect_df):\n",
    "    drug_name_review_df = review_df[review_df[\"drugName\"] == drug_name]\n",
    "    drug_name_side_effect_df = side_effect_df[side_effect_df[\"drug_name\"] == drug_name]\n",
    "    print(f\"Size of review dataset: {len(drug_name_review_df)}\")\n",
    "    print(f\"Number of side effects: {len(drug_name_side_effect_df)}\")\n",
    "    \n",
    "    drug_name_side_effect_df.loc[:,\"count\"] = 0\n",
    "    \n",
    "    for review in drug_name_review_df[\"review\"]:\n",
    "        for side_effect_name in drug_name_side_effect_df[\"side_effect\"]:\n",
    "            if side_effect_name.lower() in review.lower():\n",
    "                drug_name_side_effect_df.loc[drug_name_side_effect_df[\"side_effect\"] == side_effect_name, \"count\"] += 1\n",
    "        \n",
    "    relevant_side_effects = list(drug_name_side_effect_df[drug_name_side_effect_df[\"count\"] > 5][\"side_effect\"])\n",
    "    \n",
    "    for relevant_effect in relevant_side_effects:\n",
    "        drug_name_review_df.loc[:, relevant_effect] = False\n",
    "        for index,  review in drug_name_review_df[\"review\"].items():\n",
    "            if relevant_effect.lower() in review.lower():\n",
    "                drug_name_review_df.loc[index, relevant_effect] = True\n",
    "\n",
    "    patient_matrix = drug_name_review_df[[\"drugName\", \"condition\", \"rating\"]+relevant_side_effects].rename(columns={\"drugName\":\"drug_name\"})\n",
    "    patient_matrix.loc[:,\"children\"] = False\n",
    "    patient_matrix.loc[:,\"married\"] = False\n",
    "    patient_matrix.loc[:,\"female\"] = False\n",
    "    patient_matrix.loc[:,\"male\"] = False\n",
    "\n",
    "    for index, patient in drug_name_review_df.iterrows():\n",
    "        review = patient[\"review\"].lower()\n",
    "        age = extract_age(review)\n",
    "        if age != -1:\n",
    "            patient_matrix.loc[index, \"age\"] = age\n",
    "        \n",
    "        patient_matrix.loc[index, \"married\"] = extract_married(review)\n",
    "        patient_matrix.loc[index, \"children\"] = extract_children(review)\n",
    "        patient_matrix.loc[index, \"male\"] = extract_male(review)\n",
    "        if extract_male(review) == True:\n",
    "            print(\"male\")\n",
    "        patient_matrix.loc[index, \"female\"] = extract_female(review)\n",
    "\n",
    "\n",
    "    \n",
    "\n",
    "    return patient_matrix, drug_name_review_df, relevant_side_effects\n",
    "\n",
    "patient_matrix, drug_name_review_df, relevant_side_effects = create_patient_matrix(\"Levonorgestrel\", review_df=review_df, side_effect_df=side_effects_df)"
   ]
  },
  {
   "cell_type": "code",
   "execution_count": 262,
   "metadata": {},
   "outputs": [
    {
     "name": "stdout",
     "output_type": "stream",
     "text": [
      "Pain                 13\n",
      "Nausea                2\n",
      "Discomfort            1\n",
      "Pregnancy             1\n",
      "Migraine              1\n",
      "Depression            1\n",
      "Tension               1\n",
      "Redness               1\n",
      "Dizziness             1\n",
      "Tenderness            0\n",
      "Breast tenderness     0\n",
      "Pelvic pain           0\n",
      "Mood swings           0\n",
      "Vomiting              0\n",
      "Shock                 0\n",
      "Ectopic pregnancy     0\n",
      "Crying                0\n",
      "Acne                  0\n",
      "Polyp                 0\n",
      "Abdominal pain        0\n",
      "Anxiety               0\n",
      "Breast pain           0\n",
      "Leg pain              0\n",
      "Headache              0\n",
      "Fatigue               0\n",
      "Rash                  0\n",
      "Endometriosis         0\n",
      "Cyst                  0\n",
      "Cough                 0\n",
      "Ovarian cyst          0\n",
      "Constipation          0\n",
      "Infection             0\n",
      "Back pain             0\n",
      "Insomnia              0\n",
      "dtype: int64\n"
     ]
    }
   ],
   "source": [
    "def collaborative_filtering(patient_matrix, drug_name_review_df, relevant_side_effects, query_patient = None):\n",
    "    collaborative_filtering_df = patient_matrix.drop(columns=relevant_side_effects+[\"drug_name\",\"condition\",\"rating\"])\n",
    "    collaborative_filtering_df = collaborative_filtering_df[collaborative_filtering_df[\"age\"] != \"na\"]\n",
    "    label_encoder = LabelEncoder()\n",
    "    for col in collaborative_filtering_df.columns:\n",
    "        if collaborative_filtering_df[col].dtype == 'object':\n",
    "            collaborative_filtering_df[col] = pd.to_numeric(collaborative_filtering_df[col])\n",
    "    collaborative_filtering_df_norm = (collaborative_filtering_df - collaborative_filtering_df.mean()) / collaborative_filtering_df.std()\n",
    "    \n",
    "    all_nan_columns = collaborative_filtering_df_norm.columns[collaborative_filtering_df_norm.isna().all()]\n",
    "    collaborative_filtering_df_norm[all_nan_columns] = collaborative_filtering_df_norm[all_nan_columns].fillna(0)\n",
    "    \n",
    "    if query_patient == None:\n",
    "        query_patient = collaborative_filtering_df_norm.iloc[0]\n",
    "        \n",
    "    cosine_similarities = cosine_similarity(collaborative_filtering_df_norm, [query_patient])\n",
    "    \n",
    "    \n",
    "    collaborative_filtering_df[\"similarity\"] = 0.0\n",
    "     \n",
    "    for idx, similarity in enumerate(cosine_similarities):\n",
    "        collaborative_filtering_df.iloc[idx,collaborative_filtering_df.columns.get_loc(\"similarity\")] = similarity\n",
    "    \n",
    "    similar_patients = pd.merge(patient_matrix, collaborative_filtering_df.drop(columns=[\"age\", \"married\", \"children\"]), left_index = True, right_index = True).sort_values(by=\"similarity\", ascending = False)\n",
    "    likely_side_effects = similar_patients.head(20)[relevant_side_effects].sum().sort_values(ascending=False)\n",
    "    \n",
    "    print(likely_side_effects)\n",
    "    return patient_matrix, collaborative_filtering_df   \n",
    "    \n",
    "new_patient_matrix, collaborative_filtering_df = collaborative_filtering(patient_matrix, drug_name_review_df, relevant_side_effects)\n"
   ]
  },
  {
   "cell_type": "code",
   "execution_count": 251,
   "metadata": {},
   "outputs": [
    {
     "name": "stdout",
     "output_type": "stream",
     "text": [
      "        children  married  female   male  age  similarity\n",
      "465        False    False   False  False   20    1.000000\n",
      "156167     False    False   False  False   20    1.000000\n",
      "27696      False    False   False  False   20    1.000000\n",
      "38769      False    False   False  False   20    1.000000\n",
      "19001      False    False   False  False   20    1.000000\n",
      "...          ...      ...     ...    ...  ...         ...\n",
      "15486       True    False   False  False   28   -0.889120\n",
      "134424      True    False   False  False   30   -0.889308\n",
      "39763       True    False   False  False   29   -0.891541\n",
      "11439       True    False   False  False   29   -0.891541\n",
      "149185      True    False   False  False   29   -0.891541\n",
      "\n",
      "[259 rows x 6 columns]\n"
     ]
    }
   ],
   "source": [
    "print(collaborative_filtering_df.sort_values(by=\"similarity\", ascending = False))"
   ]
  },
  {
   "cell_type": "code",
   "execution_count": 252,
   "metadata": {},
   "outputs": [],
   "source": [
    "similar_patients = pd.merge(patient_matrix, collaborative_filtering_df.drop(columns=[\"age\", \"married\", \"children\"]), left_index = True, right_index = True).sort_values(by=\"similarity\", ascending = False)"
   ]
  },
  {
   "cell_type": "code",
   "execution_count": 253,
   "metadata": {},
   "outputs": [
    {
     "data": {
      "text/plain": [
       "Pain                 13\n",
       "Nausea                2\n",
       "Discomfort            1\n",
       "Pregnancy             1\n",
       "Migraine              1\n",
       "Depression            1\n",
       "Tension               1\n",
       "Redness               1\n",
       "Dizziness             1\n",
       "Tenderness            0\n",
       "Breast tenderness     0\n",
       "Pelvic pain           0\n",
       "Mood swings           0\n",
       "Vomiting              0\n",
       "Shock                 0\n",
       "Ectopic pregnancy     0\n",
       "Crying                0\n",
       "Acne                  0\n",
       "Polyp                 0\n",
       "Abdominal pain        0\n",
       "Anxiety               0\n",
       "Breast pain           0\n",
       "Leg pain              0\n",
       "Headache              0\n",
       "Fatigue               0\n",
       "Rash                  0\n",
       "Endometriosis         0\n",
       "Cyst                  0\n",
       "Cough                 0\n",
       "Ovarian cyst          0\n",
       "Constipation          0\n",
       "Infection             0\n",
       "Back pain             0\n",
       "Insomnia              0\n",
       "dtype: int64"
      ]
     },
     "execution_count": 253,
     "metadata": {},
     "output_type": "execute_result"
    }
   ],
   "source": [
    "similar_patients.head(20)[relevant_side_effects].sum().sort_values(ascending=False)"
   ]
  },
  {
   "cell_type": "code",
   "execution_count": 214,
   "metadata": {},
   "outputs": [
    {
     "data": {
      "text/plain": [
       "'\"I am a 47 year old female. I tried the birth control pill and it raised my blood pressure too high. My GYN suggested Mirena.  I read the reviews and warnings and was nervous but agreed. It has been over 6 months and here is my take;\\r\\n1. Having it put in was ridiculously easy and not worth any concern\\r\\n2. Very pleased with not worrying about pregnancy.\\r\\n3. Periods are normal but extremely light.\\r\\n4. Some cramping after sex - some light bleeding after sex. No biggy.\\r\\n5. Had to have the strings cut shorter for my partner - he cannot even notice it now.\\r\\n6. The only downside I have had is an increase in acne AND on the days I get my period I am very moody (I never had this before so I know it is a side effect).\\r\\n7. Cost 100.00\"'"
      ]
     },
     "execution_count": 214,
     "metadata": {},
     "output_type": "execute_result"
    }
   ],
   "source": [
    "drug_name_review_df.loc[21161][\"review\"]"
   ]
  }
 ],
 "metadata": {
  "kernelspec": {
   "display_name": "Python 3",
   "language": "python",
   "name": "python3"
  },
  "language_info": {
   "codemirror_mode": {
    "name": "ipython",
    "version": 3
   },
   "file_extension": ".py",
   "mimetype": "text/x-python",
   "name": "python",
   "nbconvert_exporter": "python",
   "pygments_lexer": "ipython3",
   "version": "3.10.12"
  }
 },
 "nbformat": 4,
 "nbformat_minor": 2
}
