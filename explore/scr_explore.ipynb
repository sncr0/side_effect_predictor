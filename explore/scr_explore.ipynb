{
 "cells": [
  {
   "cell_type": "code",
   "execution_count": 9,
   "metadata": {},
   "outputs": [
    {
     "name": "stdout",
     "output_type": "stream",
     "text": [
      "Headers: ['', 'drugName', 'condition', 'review', 'rating', 'date', 'usefulCount']\n"
     ]
    }
   ],
   "source": [
    "import pandas as pd\n",
    "import csv\n",
    "\n",
    "dataset_path = \"/home/samuel/NYU/BDS/project/review_dataset/\"\n",
    "\n",
    "def read_tsv_file(file_path):\n",
    "    try:\n",
    "        data = []\n",
    "        with open(file_path, 'r', newline='', encoding='utf-8') as file:\n",
    "            # Using the CSV reader with the tab delimiter\n",
    "            reader = csv.reader(file, delimiter='\\t')\n",
    "\n",
    "            # Reading headers\n",
    "            headers = next(reader)\n",
    "            print(\"Headers:\", headers)\n",
    "\n",
    "            # Reading data rows\n",
    "            for row in reader:\n",
    "                data.append(row)\n",
    "\n",
    "        # Create a Pandas DataFrame using the headers and data\n",
    "        df = pd.DataFrame(data, columns=headers)\n",
    "        return df\n",
    "\n",
    "    except FileNotFoundError:\n",
    "        print(f\"Error: File not found at '{file_path}'\")\n",
    "    except Exception as e:\n",
    "        print(f\"An error occurred: {e}\")\n",
    "file_path = dataset_path + 'drugsComTrain_raw.tsv'\n",
    "dataset = read_tsv_file(file_path)"
   ]
  },
  {
   "cell_type": "code",
   "execution_count": 8,
   "metadata": {},
   "outputs": [
    {
     "data": {
      "text/plain": [
       "drugName\n",
       "Levonorgestrel                        3657\n",
       "Etonogestrel                          3336\n",
       "Ethinyl estradiol / norethindrone     2850\n",
       "Nexplanon                             2156\n",
       "Ethinyl estradiol / norgestimate      2117\n",
       "Ethinyl estradiol / levonorgestrel    1888\n",
       "Phentermine                           1543\n",
       "Sertraline                            1360\n",
       "Escitalopram                          1292\n",
       "Mirena                                1242\n",
       "Implanon                              1102\n",
       "Gabapentin                            1047\n",
       "Bupropion                             1022\n",
       "Venlafaxine                           1016\n",
       "Miconazole                            1000\n",
       "Medroxyprogesterone                    995\n",
       "Citalopram                             995\n",
       "Lexapro                                952\n",
       "Bupropion / naltrexone                 950\n",
       "Duloxetine                             934\n",
       "Metronidazole                          922\n",
       "Contrave                               920\n",
       "Drospirenone / ethinyl estradiol       890\n",
       "Depo-Provera                           882\n",
       "Cymbalta                               864\n",
       "Quetiapine                             831\n",
       "Clonazepam                             831\n",
       "Skyla                                  824\n",
       "Tramadol                               820\n",
       "Zoloft                                 805\n",
       "Name: count, dtype: int64"
      ]
     },
     "execution_count": 8,
     "metadata": {},
     "output_type": "execute_result"
    }
   ],
   "source": [
    "dataset['drugName'].value_counts().head(30)"
   ]
  },
  {
   "cell_type": "code",
   "execution_count": 25,
   "metadata": {},
   "outputs": [],
   "source": [
    "nexplanon = dataset[dataset['drugName'] == \"Sertraline\"]"
   ]
  },
  {
   "cell_type": "code",
   "execution_count": 30,
   "metadata": {},
   "outputs": [
    {
     "data": {
      "text/plain": [
       "'\"Suffered quite bad anxiety for a number of years but tried every herbal remedy, acupuncture etc as I didn&#039;t want to go on meds. After the initial common side effects that lasted a few weeks I began to notice subtle changes. After a few months I feel great and wish I&#039;d done it sooner. I spent a long time being like a bag of nerves doing the most everyday task ie grocery shop, work etc I&#039;d have palpitations, shakes, fight or flight feeling along with constant I.b.s. I get a very odd &quot;off&quot; day which isn&#039;t nowhere as near as bad as before the mess, overall I feel the best I have done in years. I can now do normal things without thinking I&#039;m going to have a panic attack, socialising more, don&#039;t get ill so frequently and generally more energy.\"'"
      ]
     },
     "execution_count": 30,
     "metadata": {},
     "output_type": "execute_result"
    }
   ],
   "source": [
    "nexplanon.iloc[13].review"
   ]
  }
 ],
 "metadata": {
  "kernelspec": {
   "display_name": "Python 3",
   "language": "python",
   "name": "python3"
  },
  "language_info": {
   "codemirror_mode": {
    "name": "ipython",
    "version": 3
   },
   "file_extension": ".py",
   "mimetype": "text/x-python",
   "name": "python",
   "nbconvert_exporter": "python",
   "pygments_lexer": "ipython3",
   "version": "3.10.12"
  }
 },
 "nbformat": 4,
 "nbformat_minor": 2
}
