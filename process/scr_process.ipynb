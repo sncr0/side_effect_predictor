{
 "cells": [
  {
   "cell_type": "code",
   "execution_count": 7,
   "metadata": {},
   "outputs": [
    {
     "name": "stdout",
     "output_type": "stream",
     "text": [
      "Headers: ['', 'drugName', 'condition', 'review', 'rating', 'date', 'usefulCount']\n",
      "                           drugName                     condition  \\\n",
      "0  206461                 Valsartan  Left Ventricular Dysfunction   \n",
      "1   95260                Guanfacine                          ADHD   \n",
      "2   92703                    Lybrel                 Birth Control   \n",
      "3  138000                Ortho Evra                 Birth Control   \n",
      "4   35696  Buprenorphine / naloxone             Opiate Dependence   \n",
      "\n",
      "                                              review rating  \\\n",
      "0  \"It has no side effect, I take it in combinati...    9.0   \n",
      "1  \"My son is halfway through his fourth week of ...    8.0   \n",
      "2  \"I used to take another oral contraceptive, wh...    5.0   \n",
      "3  \"This is my first time using any form of birth...    8.0   \n",
      "4  \"Suboxone has completely turned my life around...    9.0   \n",
      "\n",
      "                date usefulCount  \n",
      "0       May 20, 2012          27  \n",
      "1     April 27, 2010         192  \n",
      "2  December 14, 2009          17  \n",
      "3   November 3, 2015          10  \n",
      "4  November 27, 2016          37  \n"
     ]
    }
   ],
   "source": [
    "import pandas as pd\n",
    "import csv\n",
    "\n",
    "dataset_path = \"/home/samuel/NYU/BDS/project/review_dataset/\"\n",
    "\n",
    "def read_tsv_file(file_path):\n",
    "    try:\n",
    "        data = []\n",
    "        with open(file_path, 'r', newline='', encoding='utf-8') as file:\n",
    "            # Using the CSV reader with the tab delimiter\n",
    "            reader = csv.reader(file, delimiter='\\t')\n",
    "\n",
    "            # Reading headers\n",
    "            headers = next(reader)\n",
    "            print(\"Headers:\", headers)\n",
    "\n",
    "            # Reading data rows\n",
    "            for row in reader:\n",
    "                data.append(row)\n",
    "\n",
    "        # Create a Pandas DataFrame using the headers and data\n",
    "        df = pd.DataFrame(data, columns=headers)\n",
    "        return df\n",
    "\n",
    "    except FileNotFoundError:\n",
    "        print(f\"Error: File not found at '{file_path}'\")\n",
    "    except Exception as e:\n",
    "        print(f\"An error occurred: {e}\")\n",
    "\n",
    "# Replace 'your_file.tsv' with the actual path to your TSV file\n",
    "file_path = dataset_path + 'drugsComTrain_raw.tsv'\n",
    "dataset_df = read_tsv_file(file_path)\n",
    "\n",
    "# Print the first few rows of the DataFrame\n",
    "print(dataset_df.head())\n"
   ]
  },
  {
   "cell_type": "code",
   "execution_count": 27,
   "metadata": {},
   "outputs": [
    {
     "data": {
      "text/plain": [
       "'\"I&#039;ve been on Latuda for a little under 2 and a half years. It almost completely stopped my psychotic symptoms except I still hear voices now and then, mainly when I try to go to sleep, but there are no delusions or paranoia while on the drug. I take cogentin in combination with it because it causes me to shake a lot. Main side effects I experience include anhedonia, shakiness, jaw clenching, and inability to sit still. However, I&#039;m happy with it because it actually works, while other antipsychotic meds I tried did not, and it doesn&#039;t cause the endless hunger that I experienced with drugs like Saphris, Haldol, Zyprexa, and Risperdal. It should be noted I am at the max daily dose, which is 160mg.\"'"
      ]
     },
     "execution_count": 27,
     "metadata": {},
     "output_type": "execute_result"
    }
   ],
   "source": [
    "example = dataset_df.iloc[101].review\n",
    "example"
   ]
  },
  {
   "cell_type": "code",
   "execution_count": 25,
   "metadata": {},
   "outputs": [],
   "source": [
    "from nltk.corpus import stopwords\n",
    "from nltk.stem import PorterStemmer\n",
    "from bs4 import BeautifulSoup\n",
    "\n",
    "text_html = BeautifulSoup(example, 'html.parser').get_text()\n",
    "stop_words = set(stopwords.words('english'))\n",
    "words = [word.lower() for word in text_html.split() if word.lower() not in stop_words]\n",
    "\n",
    "# Stemming\n",
    "stemmer = PorterStemmer()\n",
    "stemmed_words = [stemmer.stem(word) for word in words]\n",
    "\n",
    "# Join the processed words back into a single string\n",
    "processed_text = ' '.join(stemmed_words)"
   ]
  },
  {
   "cell_type": "code",
   "execution_count": 26,
   "metadata": {},
   "outputs": [
    {
     "data": {
      "text/plain": [
       "'\"i\\'v latuda littl 2 half years. almost complet stop psychot symptom except still hear voic then, mainli tri go sleep, delus paranoia drug. take cogentin combin caus shake lot. main side effect experi includ anhedonia, shakiness, jaw clenching, inabl sit still. however, i\\'m happi actual works, antipsychot med tri not, caus endless hunger experienc drug like saphris, haldol, zyprexa, risperdal. note max daili dose, 160mg.\"'"
      ]
     },
     "execution_count": 26,
     "metadata": {},
     "output_type": "execute_result"
    }
   ],
   "source": [
    "processed_text"
   ]
  }
 ],
 "metadata": {
  "kernelspec": {
   "display_name": "Python 3",
   "language": "python",
   "name": "python3"
  },
  "language_info": {
   "codemirror_mode": {
    "name": "ipython",
    "version": 3
   },
   "file_extension": ".py",
   "mimetype": "text/x-python",
   "name": "python",
   "nbconvert_exporter": "python",
   "pygments_lexer": "ipython3",
   "version": "3.10.12"
  }
 },
 "nbformat": 4,
 "nbformat_minor": 2
}
